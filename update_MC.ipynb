{
 "cells": [
  {
   "cell_type": "code",
   "execution_count": null,
   "metadata": {},
   "outputs": [],
   "source": [
    "from Update_MC.download_SSI_Price import get_data_SSI_price\n",
    "# data = get_data_SSI_price(\"HOSE\", \"Update_MC\")"
   ]
  },
  {
   "cell_type": "code",
   "execution_count": null,
   "metadata": {},
   "outputs": [],
   "source": [
    "import pandas as pd\n",
    "import numpy as np\n",
    "from collections import Counter\n",
    "from Methods.base import Base, convert_strF_to_arrF, calculate_formula\n",
    "\n",
    "df_CT = \"Update_MC/Top_100_GeoPro_VN_2023_35Fs.csv\"\n",
    "if type(df_CT) == str:\n",
    "    df_CT = pd.read_csv(df_CT)\n",
    "\n",
    "data_new_MC = pd.read_csv(\"Update_MC/_price_ssi_temp_/EXCHANGE_HOSE.csv\", skiprows=[0])[[\"CK\", \"TC\", \"Tổng KL\"]]\n",
    "data_new_MC = data_new_MC[data_new_MC[\"Tổng KL\"].notna()]\n",
    "data_new_MC[\"MARKET_CAP\"] = data_new_MC[\"TC\"] * data_new_MC[\"Tổng KL\"]\n",
    "data = pd.read_excel(\"HOSE_File3_2023_Field.xlsx\")\n",
    "data_old_MC = pd.read_excel(\"Update_MC/2022_HOSE.xlsx\")[[\"Symbol\", \"MARKET_CAP\"]]\n",
    "data_old_MC = data_old_MC[data_old_MC[\"MARKET_CAP\"].notna()]"
   ]
  },
  {
   "cell_type": "code",
   "execution_count": null,
   "metadata": {},
   "outputs": [],
   "source": [
    "list_symbol = np.intersect1d(data[\"SYMBOL\"][data[\"TIME\"]==2023], data_old_MC[\"Symbol\"])\n",
    "list_symbol = np.intersect1d(list_symbol, data_new_MC[\"CK\"])\n",
    "new_MC = np.array(data_new_MC.set_index(\"CK\").loc[list_symbol, \"MARKET_CAP\"])\n",
    "old_MC = np.array(data_old_MC.set_index(\"Symbol\").loc[list_symbol, \"MARKET_CAP\"])\n",
    "new_data = data[(data[\"TIME\"]==2023) & (data[\"SYMBOL\"].isin(list_symbol))].copy()\n",
    "new_data = new_data.set_index(\"SYMBOL\").loc[list_symbol].reset_index()"
   ]
  },
  {
   "cell_type": "code",
   "execution_count": null,
   "metadata": {},
   "outputs": [],
   "source": [
    "vis = Base(new_data)\n",
    "def get_weight_array(formula):\n",
    "    if type(formula) == str:\n",
    "        formula = convert_strF_to_arrF(formula)\n",
    "    \n",
    "    weight = calculate_formula(formula, vis.OPERAND)\n",
    "    return weight"
   ]
  },
  {
   "cell_type": "code",
   "execution_count": null,
   "metadata": {},
   "outputs": [],
   "source": [
    "list_invest = []\n",
    "for ct in df_CT[\"CT\"]:\n",
    "    weight = get_weight_array(ct)\n",
    "    start, end = vis.INDEX[0], vis.INDEX[1]\n",
    "    arr_max = np.where(weight[start:end] == max(weight[start:end]))[0]\n",
    "    if arr_max.shape[0] == 1:\n",
    "        cty = vis.symbol_name[vis.SYMBOL[arr_max[0]]]\n",
    "    else:\n",
    "        cty = \"NotInvest\"\n",
    "    \n",
    "    list_invest.append(cty)\n",
    "\n",
    "Counter(list_invest)"
   ]
  }
 ],
 "metadata": {
  "kernelspec": {
   "display_name": "Python 3",
   "language": "python",
   "name": "python3"
  },
  "language_info": {
   "codemirror_mode": {
    "name": "ipython",
    "version": 3
   },
   "file_extension": ".py",
   "mimetype": "text/x-python",
   "name": "python",
   "nbconvert_exporter": "python",
   "pygments_lexer": "ipython3",
   "version": "3.10.12"
  }
 },
 "nbformat": 4,
 "nbformat_minor": 2
}
